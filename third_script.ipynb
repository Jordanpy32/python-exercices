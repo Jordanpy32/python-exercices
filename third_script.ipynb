{
 "cells": [
  {
   "cell_type": "markdown",
   "id": "5045e61c",
   "metadata": {},
   "source": [
    "# Challence function\n",
    "\n",
    "The idea is to build a function that automatically calculates an employee's salary, taking overtime into account. To do this, we start from the following premise:\n",
    "\n",
    "- Overtime is defined as hours worked in excess of 40 hours.\n",
    "- Overtime is paid at 1.5 times the basic salary."
   ]
  },
  {
   "cell_type": "code",
   "execution_count": 3,
   "id": "71a7581b",
   "metadata": {},
   "outputs": [],
   "source": [
    "from salary import salaryCal # Import the salaryCal function from the salary module"
   ]
  },
  {
   "cell_type": "code",
   "execution_count": 8,
   "id": "03b28e4d",
   "metadata": {},
   "outputs": [],
   "source": [
    "hours_worked = int(input(\"Enter hours worked: \")) # Get hours worked from user\n",
    "hours_rate = int(input(\"Enter hourly rate: \")) # Get hourly rate from user"
   ]
  },
  {
   "cell_type": "code",
   "execution_count": 14,
   "id": "acc2af0b",
   "metadata": {},
   "outputs": [
    {
     "name": "stdout",
     "output_type": "stream",
     "text": [
      "4900.0\n"
     ]
    }
   ],
   "source": [
    "salaryCal(hours_worked, hours_rate)# Call the salaryCal function with user inputs"
   ]
  }
 ],
 "metadata": {
  "kernelspec": {
   "display_name": "Python 3",
   "language": "python",
   "name": "python3"
  },
  "language_info": {
   "codemirror_mode": {
    "name": "ipython",
    "version": 3
   },
   "file_extension": ".py",
   "mimetype": "text/x-python",
   "name": "python",
   "nbconvert_exporter": "python",
   "pygments_lexer": "ipython3",
   "version": "3.13.0"
  }
 },
 "nbformat": 4,
 "nbformat_minor": 5
}

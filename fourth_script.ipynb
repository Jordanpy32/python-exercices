{
 "cells": [
  {
   "cell_type": "markdown",
   "id": "cc4bbb7d",
   "metadata": {},
   "source": [
    "# Challenge\n",
    "\n",
    "1. Create a Python class named BankAccount that represents a bank account, with the following attributes : accountNumber(numeric type); name (name of the account owner, string type); balance.\n",
    "2. Create a constructor with the following parameters: accountNumber, name, balance\n",
    "3. Create a Deposit() method that manages deposits.\n",
    "4. Create a Withdraw() method that manages withdrawals when possible.\n",
    "5. Create a Fees() method that applies fees at a rate of 5% of the balance.\n",
    "6. Provide the complete code for the BankAccount class."
   ]
  },
  {
   "cell_type": "code",
   "execution_count": 23,
   "id": "21952d44",
   "metadata": {},
   "outputs": [],
   "source": [
    "class BankAccount: #class BankAccount\n",
    "    def __init__(self, accountNumber, name, balance=0): # constructor \n",
    "\n",
    "        self.accountNumber = accountNumber # account number attribute\n",
    "        self.name = name # name attribute\n",
    "        self.balance = balance # balance attribute\n",
    "    \n",
    "    def info(self): # info method\n",
    "\n",
    "        \"\"\"\n",
    "        Display account information.\n",
    "\n",
    "        \"\"\"\n",
    "        print(f\"   Account Info:\\n\"\n",
    "              f\"   Account Number: {self.accountNumber}\\n\"\n",
    "              f\"   Name: {self.name}\\n\"\n",
    "              f\"   Balance: {self.balance} $\")\n",
    "\n",
    "    def deposit(self, amount): # deposit method\n",
    "        self.balance += amount # increase balance by amount\n",
    "        print(f\"Deposited {amount}. New balance is {self.balance} $.\") # display new balance\n",
    "\n",
    "    def withdraw(self, amount):  # withdraw method\n",
    "        if amount > self.balance:  # check if amount is greater than balance\n",
    "            print(\"Insufficient funds.\")\n",
    "        else:\n",
    "            self.balance -= amount  # decrease balance by amount\n",
    "            print(f\"Withdrew {amount}. New balance is {self.balance} $.\")  # display new balance\n",
    "\n",
    "    def agios(self, rate: float = 0.05):  # agios method. Default rate is 5%\n",
    "        if self.balance < 0:  # if balance is negative apply agios\n",
    "            agios_amount = abs(self.balance * rate)  # calculate agios amount\n",
    "            self.balance -= agios_amount  # apply agios\n",
    "            print(f\"Applied agios of {agios_amount}. New balance is {self.balance} $.\")  # display new balance"
   ]
  },
  {
   "cell_type": "code",
   "execution_count": null,
   "id": "acb781ac",
   "metadata": {},
   "outputs": [],
   "source": [
    "account = BankAccount(\"123456\", \"John Doe\", 1000)  # create a new bank account\n",
    "account.info()  # display account info\n",
    "account.deposit(500)  # deposit money\n",
    "account.withdraw(200)  # withdraw money\n",
    "account.agios()  # apply agios"
   ]
  }
 ],
 "metadata": {
  "kernelspec": {
   "display_name": "Python 3",
   "language": "python",
   "name": "python3"
  },
  "language_info": {
   "codemirror_mode": {
    "name": "ipython",
    "version": 3
   },
   "file_extension": ".py",
   "mimetype": "text/x-python",
   "name": "python",
   "nbconvert_exporter": "python",
   "pygments_lexer": "ipython3",
   "version": "3.13.0"
  }
 },
 "nbformat": 4,
 "nbformat_minor": 5
}

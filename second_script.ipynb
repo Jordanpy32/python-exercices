{
 "cells": [
  {
   "cell_type": "markdown",
   "id": "63e45a9c",
   "metadata": {},
   "source": [
    "# Challenge :\n",
    "\n",
    "\n",
    "1. Create a tuple named tuple1 that contains the names of two people\n",
    "2. Create a tuple named tuple2 that contains the first names of as many people as puple1\n",
    "3. Create a dictionnary dict1 containning tuple1 and tuple2\n",
    "4. Create a copy of dict1, dict2\n",
    "5. Add a person nammed Paton and given name Alison to dict2"
   ]
  },
  {
   "cell_type": "code",
   "execution_count": 3,
   "id": "19222c4e",
   "metadata": {},
   "outputs": [],
   "source": [
    "tuple1 = ('ngoungou','issanga') # This is a tuple containing two strings"
   ]
  },
  {
   "cell_type": "code",
   "execution_count": 5,
   "id": "c792d040",
   "metadata": {},
   "outputs": [],
   "source": [
    "tuple2 = ('ams','jordan') # This is a tuple containing two strings"
   ]
  },
  {
   "cell_type": "code",
   "execution_count": null,
   "id": "429e8647",
   "metadata": {},
   "outputs": [
    {
     "name": "stdout",
     "output_type": "stream",
     "text": [
      "{'ngoungou': 'ams', 'issanga': 'jordan'}\n",
      "ams\n"
     ]
    }
   ],
   "source": [
    "dict1 = dict(zip(tuple1, tuple2)) # Create a dictionary from the tuples\n",
    "print(dict1)\n",
    "print(dict1['ngoungou']) # Print the value associated with the key 'ngoungou'"
   ]
  },
  {
   "cell_type": "code",
   "execution_count": 15,
   "id": "103f1c54",
   "metadata": {},
   "outputs": [
    {
     "name": "stdout",
     "output_type": "stream",
     "text": [
      "{'ngoungou': 'ams', 'issanga': 'jordan'}\n"
     ]
    }
   ],
   "source": [
    "dict2 = dict1.copy() # Create a copy of the dictionary\n",
    "print(dict2) # Print the copied dictionary"
   ]
  },
  {
   "cell_type": "code",
   "execution_count": 17,
   "id": "5cec9632",
   "metadata": {},
   "outputs": [
    {
     "name": "stdout",
     "output_type": "stream",
     "text": [
      "{'ngoungou': 'ams', 'issanga': 'jordan', 'Patou': 'Alison'}\n"
     ]
    }
   ],
   "source": [
    "dict2['Patou'] = 'Alison' # Add a new key-value pair to the copied dictionary\n",
    "print(dict2) # Print the updated dictionary"
   ]
  }
 ],
 "metadata": {
  "kernelspec": {
   "display_name": "Python 3",
   "language": "python",
   "name": "python3"
  },
  "language_info": {
   "codemirror_mode": {
    "name": "ipython",
    "version": 3
   },
   "file_extension": ".py",
   "mimetype": "text/x-python",
   "name": "python",
   "nbconvert_exporter": "python",
   "pygments_lexer": "ipython3",
   "version": "3.13.0"
  }
 },
 "nbformat": 4,
 "nbformat_minor": 5
}

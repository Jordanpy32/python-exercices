{
 "cells": [
  {
   "cell_type": "markdown",
   "id": "132dda2d",
   "metadata": {},
   "source": [
    "My First script"
   ]
  },
  {
   "cell_type": "code",
   "execution_count": 9,
   "id": "b1ea3c0d",
   "metadata": {},
   "outputs": [
    {
     "name": "stdout",
     "output_type": "stream",
     "text": [
      "The number chosen is : 7\n"
     ]
    }
   ],
   "source": [
    "# This script initializes a variable with the value 7 and converts it to a string.\n",
    "\n",
    "a = 7 #create a variable with the value 7\n",
    "b = str(a) \n",
    "\n",
    "print(\"The number chosen is : \" + b) #print the value of b"
   ]
  }
 ],
 "metadata": {
  "kernelspec": {
   "display_name": "Python 3",
   "language": "python",
   "name": "python3"
  },
  "language_info": {
   "codemirror_mode": {
    "name": "ipython",
    "version": 3
   },
   "file_extension": ".py",
   "mimetype": "text/x-python",
   "name": "python",
   "nbconvert_exporter": "python",
   "pygments_lexer": "ipython3",
   "version": "3.13.0"
  }
 },
 "nbformat": 4,
 "nbformat_minor": 5
}
